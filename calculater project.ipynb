{
 "cells": [
  {
   "cell_type": "code",
   "execution_count": 2,
   "id": "de2f9886",
   "metadata": {},
   "outputs": [],
   "source": [
    "from tkinter import *\n",
    "root=Tk()\n",
    "root.title(\"Smiple Calculator\")\n",
    "root.geometry(\"600x400\")  \n",
    "def Calculate():\n",
    "    el1=int(e1entry.get())\n",
    "    el2=int(e2entry.get())\n",
    "    el3=int(e3entry.get())\n",
    "    if el3==1:\n",
    "        result=el1+el2\n",
    "    elif el3==2:\n",
    "        result=el1-el2\n",
    "    elif el3==3:\n",
    "        result=el1*el2\n",
    "    elif el3==4:\n",
    "        result=el1/el2\n",
    "    else:\n",
    "        result= -1\n",
    "    Label(text=f\"{result}\",font=\"arial 30 bold\").place(x=200,y=320)\n",
    "w=Label(root,text='SELECT THE OPTION 1 ,2 ,3 ,4 FOR OPERATION')\n",
    "w.grid(row=1,column=0)\n",
    "w=Label(root,text='1.ADDTION')\n",
    "w.grid(row=2,column=0)\n",
    "w=Label(root,text='2.SUBTRACTION')\n",
    "w.grid(row=3,column=0)\n",
    "w=Label(root,text='3.MULTIPLICATION')\n",
    "w.grid(row=4,column=0)\n",
    "w=Label(root,text='4.DIVISION')\n",
    "w.grid(row=5,column=0)\n",
    "e1=Label(root,text=\"FIRSTNUMBER\")\n",
    "e1.place(x=50,y=120)\n",
    "e1value=StringVar()\n",
    "e1entry=Entry(root,textvariable=e1value,font= \"arial 20\",width=8)\n",
    "e1entry.place(x=200,y=120)\n",
    "e2=Label(root,text=\"SECONDNUMBER\")\n",
    "e2.place(x=50,y=190)\n",
    "e2value=StringVar()\n",
    "e2entry=Entry(root,textvariable=e2value,font= \"arial 20\",width=8)\n",
    "e2entry.place(x=200,y=190)\n",
    "e3=Label(root,text=\"SELECT OPERATION\")\n",
    "e3.place(x=50,y=260)\n",
    "e3value=StringVar()\n",
    "e3entry=Entry(root)\n",
    "e3entry.place(x=200,y=260)\n",
    "Button(text=\"Calculate\",command=Calculate,font=\"arial 15\").place(x=350,y=220)\n",
    "Button(text=\"Exit\",command=lambda:exit(),font=\"arial 15\").place(x=350,y=260)\n",
    "amount=Label(root,text=\"result=\",font=\"arial 15\")\n",
    "amount.place(x=100,y=330)\n",
    "root.mainloop()"
   ]
  }
 ],
 "metadata": {
  "kernelspec": {
   "display_name": "Python 3 (ipykernel)",
   "language": "python",
   "name": "python3"
  },
  "language_info": {
   "codemirror_mode": {
    "name": "ipython",
    "version": 3
   },
   "file_extension": ".py",
   "mimetype": "text/x-python",
   "name": "python",
   "nbconvert_exporter": "python",
   "pygments_lexer": "ipython3",
   "version": "3.9.7"
  }
 },
 "nbformat": 4,
 "nbformat_minor": 5
}
